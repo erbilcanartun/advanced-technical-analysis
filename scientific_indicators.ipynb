{
 "cells": [
  {
   "cell_type": "markdown",
   "id": "3f3e860a-b60d-41c2-ba1f-9252b5c7543f",
   "metadata": {},
   "source": [
    "# Imports"
   ]
  },
  {
   "cell_type": "code",
   "execution_count": 1,
   "id": "8a764c6c-5464-44dc-8185-28e351ada81d",
   "metadata": {},
   "outputs": [
    {
     "ename": "SyntaxError",
     "evalue": "invalid syntax (utils.py, line 134)",
     "output_type": "error",
     "traceback": [
      "Traceback \u001b[0;36m(most recent call last)\u001b[0m:\n",
      "\u001b[0m  File \u001b[1;32m~/Documents - Local/GitHub/advanced-technical-indicators/.venv/lib/python3.12/site-packages/IPython/core/interactiveshell.py:3577\u001b[0m in \u001b[1;35mrun_code\u001b[0m\n    exec(code_obj, self.user_global_ns, self.user_ns)\u001b[0m\n",
      "\u001b[0;36m  Cell \u001b[0;32mIn[1], line 14\u001b[0;36m\n\u001b[0;31m    from utils.utils import *\u001b[0;36m\n",
      "\u001b[0;36m  File \u001b[0;32m~/Documents - Local/GitHub/advanced-technical-indicators/utils/utils.py:134\u001b[0;36m\u001b[0m\n\u001b[0;31m    complexity = Complexity..lempel_ziv_complexity(np.array(binary_sequence))\u001b[0m\n\u001b[0m                            ^\u001b[0m\n\u001b[0;31mSyntaxError\u001b[0m\u001b[0;31m:\u001b[0m invalid syntax\n"
     ]
    }
   ],
   "source": [
    "import matplotlib.pyplot as plt\n",
    "%matplotlib inline\n",
    "%config InlineBackend.figure_format='retina'\n",
    "\n",
    "from bokeh.layouts import column\n",
    "from bokeh.models import LinearAxis, Range1d\n",
    "from bokeh.plotting import figure, show, output_file\n",
    "from bokeh.io import output_notebook, reset_output\n",
    "\n",
    "import yfinance as yf\n",
    "import numpy as np\n",
    "import pandas as pd\n",
    "#from datetime import datetime, timedelta\n",
    "from utils.utils import *\n",
    "from utils import salib as sa"
   ]
  },
  {
   "cell_type": "markdown",
   "id": "4395b454-656d-4dfd-8778-16f7a7d94308",
   "metadata": {},
   "source": [
    "# Data"
   ]
  },
  {
   "cell_type": "code",
   "execution_count": 2,
   "id": "84dc0796-c6a4-4f75-9bba-f0d95480c826",
   "metadata": {},
   "outputs": [
    {
     "name": "stderr",
     "output_type": "stream",
     "text": [
      "[*********************100%***********************]  1 of 1 completed\n"
     ]
    },
    {
     "data": {
      "text/html": [
       "<div>\n",
       "<style scoped>\n",
       "    .dataframe tbody tr th:only-of-type {\n",
       "        vertical-align: middle;\n",
       "    }\n",
       "\n",
       "    .dataframe tbody tr th {\n",
       "        vertical-align: top;\n",
       "    }\n",
       "\n",
       "    .dataframe thead th {\n",
       "        text-align: right;\n",
       "    }\n",
       "</style>\n",
       "<table border=\"1\" class=\"dataframe\">\n",
       "  <thead>\n",
       "    <tr style=\"text-align: right;\">\n",
       "      <th></th>\n",
       "      <th>Open</th>\n",
       "      <th>High</th>\n",
       "      <th>Low</th>\n",
       "      <th>Close</th>\n",
       "      <th>Adj Close</th>\n",
       "      <th>Volume</th>\n",
       "    </tr>\n",
       "    <tr>\n",
       "      <th>Date</th>\n",
       "      <th></th>\n",
       "      <th></th>\n",
       "      <th></th>\n",
       "      <th></th>\n",
       "      <th></th>\n",
       "      <th></th>\n",
       "    </tr>\n",
       "  </thead>\n",
       "  <tbody>\n",
       "    <tr>\n",
       "      <th>2000-01-03</th>\n",
       "      <td>0.936384</td>\n",
       "      <td>1.004464</td>\n",
       "      <td>0.907924</td>\n",
       "      <td>0.999442</td>\n",
       "      <td>0.844004</td>\n",
       "      <td>535796800</td>\n",
       "    </tr>\n",
       "    <tr>\n",
       "      <th>2000-01-04</th>\n",
       "      <td>0.966518</td>\n",
       "      <td>0.987723</td>\n",
       "      <td>0.903460</td>\n",
       "      <td>0.915179</td>\n",
       "      <td>0.772846</td>\n",
       "      <td>512377600</td>\n",
       "    </tr>\n",
       "    <tr>\n",
       "      <th>2000-01-05</th>\n",
       "      <td>0.926339</td>\n",
       "      <td>0.987165</td>\n",
       "      <td>0.919643</td>\n",
       "      <td>0.928571</td>\n",
       "      <td>0.784155</td>\n",
       "      <td>778321600</td>\n",
       "    </tr>\n",
       "    <tr>\n",
       "      <th>2000-01-06</th>\n",
       "      <td>0.947545</td>\n",
       "      <td>0.955357</td>\n",
       "      <td>0.848214</td>\n",
       "      <td>0.848214</td>\n",
       "      <td>0.716296</td>\n",
       "      <td>767972800</td>\n",
       "    </tr>\n",
       "    <tr>\n",
       "      <th>2000-01-07</th>\n",
       "      <td>0.861607</td>\n",
       "      <td>0.901786</td>\n",
       "      <td>0.852679</td>\n",
       "      <td>0.888393</td>\n",
       "      <td>0.750226</td>\n",
       "      <td>460734400</td>\n",
       "    </tr>\n",
       "    <tr>\n",
       "      <th>...</th>\n",
       "      <td>...</td>\n",
       "      <td>...</td>\n",
       "      <td>...</td>\n",
       "      <td>...</td>\n",
       "      <td>...</td>\n",
       "      <td>...</td>\n",
       "    </tr>\n",
       "    <tr>\n",
       "      <th>2000-12-22</th>\n",
       "      <td>0.252232</td>\n",
       "      <td>0.267857</td>\n",
       "      <td>0.252232</td>\n",
       "      <td>0.267857</td>\n",
       "      <td>0.226199</td>\n",
       "      <td>318052000</td>\n",
       "    </tr>\n",
       "    <tr>\n",
       "      <th>2000-12-26</th>\n",
       "      <td>0.265625</td>\n",
       "      <td>0.267857</td>\n",
       "      <td>0.254464</td>\n",
       "      <td>0.262277</td>\n",
       "      <td>0.221486</td>\n",
       "      <td>216815200</td>\n",
       "    </tr>\n",
       "    <tr>\n",
       "      <th>2000-12-27</th>\n",
       "      <td>0.256138</td>\n",
       "      <td>0.264509</td>\n",
       "      <td>0.253348</td>\n",
       "      <td>0.264509</td>\n",
       "      <td>0.223371</td>\n",
       "      <td>325466400</td>\n",
       "    </tr>\n",
       "    <tr>\n",
       "      <th>2000-12-28</th>\n",
       "      <td>0.256696</td>\n",
       "      <td>0.266741</td>\n",
       "      <td>0.255580</td>\n",
       "      <td>0.264509</td>\n",
       "      <td>0.223371</td>\n",
       "      <td>305177600</td>\n",
       "    </tr>\n",
       "    <tr>\n",
       "      <th>2000-12-29</th>\n",
       "      <td>0.262277</td>\n",
       "      <td>0.267857</td>\n",
       "      <td>0.258929</td>\n",
       "      <td>0.265625</td>\n",
       "      <td>0.224314</td>\n",
       "      <td>630336000</td>\n",
       "    </tr>\n",
       "  </tbody>\n",
       "</table>\n",
       "<p>252 rows × 6 columns</p>\n",
       "</div>"
      ],
      "text/plain": [
       "                Open      High       Low     Close  Adj Close     Volume\n",
       "Date                                                                    \n",
       "2000-01-03  0.936384  1.004464  0.907924  0.999442   0.844004  535796800\n",
       "2000-01-04  0.966518  0.987723  0.903460  0.915179   0.772846  512377600\n",
       "2000-01-05  0.926339  0.987165  0.919643  0.928571   0.784155  778321600\n",
       "2000-01-06  0.947545  0.955357  0.848214  0.848214   0.716296  767972800\n",
       "2000-01-07  0.861607  0.901786  0.852679  0.888393   0.750226  460734400\n",
       "...              ...       ...       ...       ...        ...        ...\n",
       "2000-12-22  0.252232  0.267857  0.252232  0.267857   0.226199  318052000\n",
       "2000-12-26  0.265625  0.267857  0.254464  0.262277   0.221486  216815200\n",
       "2000-12-27  0.256138  0.264509  0.253348  0.264509   0.223371  325466400\n",
       "2000-12-28  0.256696  0.266741  0.255580  0.264509   0.223371  305177600\n",
       "2000-12-29  0.262277  0.267857  0.258929  0.265625   0.224314  630336000\n",
       "\n",
       "[252 rows x 6 columns]"
      ]
     },
     "execution_count": 2,
     "metadata": {},
     "output_type": "execute_result"
    }
   ],
   "source": [
    "# Load financial data into a pandas DataFrame\n",
    "ticker = 'AAPL'\n",
    "start_date = '2000-01-01'\n",
    "end_date = '2001-01-01'\n",
    "data = yf.download(ticker, start=start_date, end=end_date, interval='1d')\n",
    "data"
   ]
  },
  {
   "cell_type": "markdown",
   "id": "2a9b3cda-4dbc-4e62-aa18-56b7ff1d11b7",
   "metadata": {},
   "source": [
    "# Entropy"
   ]
  },
  {
   "cell_type": "markdown",
   "id": "d1dfa9ea-c64d-4473-a20b-d752b31a1e72",
   "metadata": {},
   "source": [
    "## Shannon Entropy"
   ]
  },
  {
   "cell_type": "code",
   "execution_count": 4,
   "id": "0075dbbb-c6b4-462e-b5a3-68da7cb31a2e",
   "metadata": {},
   "outputs": [
    {
     "name": "stdout",
     "output_type": "stream",
     "text": [
      "Period = 100\n",
      "Data length = 252\n",
      "\n",
      "t = 251; Shannon entropy = 6.068641\t\t\t\r"
     ]
    }
   ],
   "source": [
    "df = sh_en(data.Close, period=100)"
   ]
  },
  {
   "cell_type": "markdown",
   "id": "0b6991d1-14ff-4429-9960-3da64404ca04",
   "metadata": {},
   "source": [
    "## Approximate Entropy"
   ]
  },
  {
   "cell_type": "code",
   "execution_count": 22,
   "id": "de3753c1-167d-41a5-b574-1a0a5440337f",
   "metadata": {
    "scrolled": true
   },
   "outputs": [
    {
     "name": "stdout",
     "output_type": "stream",
     "text": [
      "Period = 50\n",
      "Data length = 252\n",
      "\n",
      "t = 251; Approximate entropy = 0.000000\t\t\t\r"
     ]
    },
    {
     "data": {
      "text/html": [
       "<div>\n",
       "<style scoped>\n",
       "    .dataframe tbody tr th:only-of-type {\n",
       "        vertical-align: middle;\n",
       "    }\n",
       "\n",
       "    .dataframe tbody tr th {\n",
       "        vertical-align: top;\n",
       "    }\n",
       "\n",
       "    .dataframe thead th {\n",
       "        text-align: right;\n",
       "    }\n",
       "</style>\n",
       "<table border=\"1\" class=\"dataframe\">\n",
       "  <thead>\n",
       "    <tr style=\"text-align: right;\">\n",
       "      <th></th>\n",
       "      <th>indicator</th>\n",
       "    </tr>\n",
       "    <tr>\n",
       "      <th>Date</th>\n",
       "      <th></th>\n",
       "    </tr>\n",
       "  </thead>\n",
       "  <tbody>\n",
       "    <tr>\n",
       "      <th>2000-01-03</th>\n",
       "      <td>NaN</td>\n",
       "    </tr>\n",
       "    <tr>\n",
       "      <th>2000-01-04</th>\n",
       "      <td>NaN</td>\n",
       "    </tr>\n",
       "    <tr>\n",
       "      <th>2000-01-05</th>\n",
       "      <td>NaN</td>\n",
       "    </tr>\n",
       "    <tr>\n",
       "      <th>2000-01-06</th>\n",
       "      <td>NaN</td>\n",
       "    </tr>\n",
       "    <tr>\n",
       "      <th>2000-01-07</th>\n",
       "      <td>NaN</td>\n",
       "    </tr>\n",
       "    <tr>\n",
       "      <th>...</th>\n",
       "      <td>...</td>\n",
       "    </tr>\n",
       "    <tr>\n",
       "      <th>2000-12-22</th>\n",
       "      <td>0.0</td>\n",
       "    </tr>\n",
       "    <tr>\n",
       "      <th>2000-12-26</th>\n",
       "      <td>0.0</td>\n",
       "    </tr>\n",
       "    <tr>\n",
       "      <th>2000-12-27</th>\n",
       "      <td>0.0</td>\n",
       "    </tr>\n",
       "    <tr>\n",
       "      <th>2000-12-28</th>\n",
       "      <td>0.0</td>\n",
       "    </tr>\n",
       "    <tr>\n",
       "      <th>2000-12-29</th>\n",
       "      <td>0.0</td>\n",
       "    </tr>\n",
       "  </tbody>\n",
       "</table>\n",
       "<p>252 rows × 1 columns</p>\n",
       "</div>"
      ],
      "text/plain": [
       "           indicator\n",
       "Date                \n",
       "2000-01-03       NaN\n",
       "2000-01-04       NaN\n",
       "2000-01-05       NaN\n",
       "2000-01-06       NaN\n",
       "2000-01-07       NaN\n",
       "...              ...\n",
       "2000-12-22       0.0\n",
       "2000-12-26       0.0\n",
       "2000-12-27       0.0\n",
       "2000-12-28       0.0\n",
       "2000-12-29       0.0\n",
       "\n",
       "[252 rows x 1 columns]"
      ]
     },
     "execution_count": 22,
     "metadata": {},
     "output_type": "execute_result"
    }
   ],
   "source": [
    "df = ap_en(data.Close, period=100)"
   ]
  },
  {
   "cell_type": "markdown",
   "id": "e03f16ea-021f-4360-b7a2-b945a9a873e3",
   "metadata": {},
   "source": [
    "# Chaos"
   ]
  },
  {
   "cell_type": "markdown",
   "id": "238ea34f-1ad2-4f48-954f-5c1e92df8ac0",
   "metadata": {},
   "source": [
    "## Lyapunov Exponent"
   ]
  },
  {
   "cell_type": "code",
   "execution_count": null,
   "id": "c15419b2-4b5a-499a-b773-6b682a7a2365",
   "metadata": {},
   "outputs": [],
   "source": [
    "df = lyapunov(data.Close, period=48)"
   ]
  },
  {
   "cell_type": "markdown",
   "id": "21f2a7aa-be38-4f96-854c-c9c2551c9c92",
   "metadata": {},
   "source": [
    "# Mutual Information"
   ]
  },
  {
   "cell_type": "markdown",
   "id": "9e2c6be6-6d63-4b2b-94e7-1a37e83039c1",
   "metadata": {},
   "source": [
    "## Constant delay"
   ]
  },
  {
   "cell_type": "code",
   "execution_count": null,
   "id": "de9c6274-f517-4732-b51e-09e87ee57b7d",
   "metadata": {},
   "outputs": [],
   "source": [
    "df = minfo(data.Close, period=48, delay=7, method='constant delay')"
   ]
  },
  {
   "cell_type": "markdown",
   "id": "67b5ecd3-c4ce-4799-915a-7b8e425a3f89",
   "metadata": {},
   "source": [
    "## First minimum"
   ]
  },
  {
   "cell_type": "code",
   "execution_count": null,
   "id": "863d5b2a-b301-4cfb-9f5c-56c351fc9e99",
   "metadata": {},
   "outputs": [],
   "source": [
    "df = minfo(data.Close, period=4258, max_delay=20, method='first minimum')"
   ]
  },
  {
   "cell_type": "markdown",
   "id": "baf16e98-1aae-456c-a00b-e913bd26e803",
   "metadata": {},
   "source": [
    "# Complexity"
   ]
  },
  {
   "cell_type": "markdown",
   "id": "98a789b4-9ad3-4c1c-8248-6cb8ca442ebc",
   "metadata": {},
   "source": [
    "## Lempel-Ziv Complexity"
   ]
  },
  {
   "cell_type": "code",
   "execution_count": null,
   "id": "a1680776-2970-407a-8d09-1e309f972c4f",
   "metadata": {},
   "outputs": [],
   "source": [
    "df = complex(data.Close, period=100)"
   ]
  },
  {
   "cell_type": "markdown",
   "id": "a439de78-749f-4bff-af6f-73f60e5f2c02",
   "metadata": {},
   "source": [
    "# Multifractal Analysis"
   ]
  },
  {
   "cell_type": "markdown",
   "id": "ebf0cc42-959e-4bd7-af43-c9c304934ebe",
   "metadata": {},
   "source": [
    "## Overview"
   ]
  },
  {
   "cell_type": "code",
   "execution_count": null,
   "id": "e4df4571-1ce0-4945-bc68-94833282e0f0",
   "metadata": {},
   "outputs": [],
   "source": [
    "length = 2 ** 7 # choose length as a power of 2\n",
    "\n",
    "n = length + 1000\n",
    "ts = data.Close[n - length:n]\n",
    "\n",
    "s = overview(ts, n, preprocess=True)"
   ]
  },
  {
   "cell_type": "code",
   "execution_count": null,
   "id": "45811bdc-7c47-4b85-ae2b-19fa8eeace0a",
   "metadata": {},
   "outputs": [],
   "source": [
    "#----------------------- PARAMETERS -----------------------#\n",
    "l = floor(np.log2(len(s)))\n",
    "L = 2**l\n",
    "q_range = (-40, 40)\n",
    "scale_range = (1, l)\n",
    "\n",
    "mfa(data.Close, period, q_range, scale_range)"
   ]
  },
  {
   "cell_type": "markdown",
   "id": "e9978dac-c5a3-4411-ab5d-d1e4b015cb2e",
   "metadata": {},
   "source": [
    "## Indicator-1: Multifractal Spectrum Width"
   ]
  },
  {
   "cell_type": "code",
   "execution_count": null,
   "id": "526de13c-ccb5-4f6b-afb2-f158c1973d86",
   "metadata": {},
   "outputs": [],
   "source": [
    "warnings.filterwarnings(action=\"ignore\")\n",
    "\n",
    "length = 2 ** 7\n",
    "q_range = (-40, 40)\n",
    "\n",
    "mfs_width(data, length, q_range)"
   ]
  },
  {
   "cell_type": "markdown",
   "id": "af68deed-19a6-4281-80bf-6fd23f908ac9",
   "metadata": {},
   "source": [
    "## Indicator-2: Multifractal Spectrum Height"
   ]
  },
  {
   "cell_type": "code",
   "execution_count": null,
   "id": "322aa0a2-c0dd-4710-bf49-1ab9bdd68406",
   "metadata": {},
   "outputs": [],
   "source": [
    "length = 2**7\n",
    "q_range = (-40, 40)\n",
    "\n",
    "mfs_height(data, length, q_range)"
   ]
  },
  {
   "cell_type": "markdown",
   "id": "63dd4e2e-f673-40f4-b51a-351d29171b92",
   "metadata": {},
   "source": [
    "# Recurrence Quantification Analysis"
   ]
  },
  {
   "cell_type": "code",
   "execution_count": null,
   "id": "f0d9075e-6068-4689-853b-c2aaa317613f",
   "metadata": {},
   "outputs": [],
   "source": [
    "from pyrqa.time_series import TimeSeries\n",
    "from pyrqa.settings import Settings\n",
    "from pyrqa.analysis_type import Classic\n",
    "from pyrqa.neighbourhood import FixedRadius\n",
    "from pyrqa.metric import EuclideanMetric\n",
    "from pyrqa.computation import RQAComputation, RPComputation\n",
    "from pyrqa.image_generator import ImageGenerator"
   ]
  },
  {
   "cell_type": "markdown",
   "id": "ca0c8cd6-71e7-4a22-84a8-4727821a4b20",
   "metadata": {},
   "source": [
    "## Indicator-1: Recurrence Rate"
   ]
  },
  {
   "cell_type": "code",
   "execution_count": null,
   "id": "00880bcd-7d42-46e1-96ab-b606cbd7166f",
   "metadata": {},
   "outputs": [],
   "source": [
    "length = 100\n",
    "\n",
    "#=============================== CALCULATIONS ================================#\n",
    "df = pd.DataFrame(index=dataframe.index, columns=[\"indicator\"]) # empty dataframe for results\n",
    "\n",
    "print(\"Candle range = %d; Data length = %d\" % (length, N), end=\"\\n\\n\")\n",
    "\n",
    "for t in range(length - 1, N):\n",
    "    \n",
    "    #-------------------------- TIME SERIES SECTION --------------------------#\n",
    "    x = dataframe.close[t - (length - 1):t + 1].values\n",
    "    \n",
    "    #----------------------------- RQA ANALYSIS ------------------------------#\n",
    "    reconstructed = TimeSeries(x, embedding_dimension=2, time_delay=2)\n",
    "    settings = Settings(reconstructed,  analysis_type=Classic,  neighbourhood=FixedRadius(0.65), similarity_measure=EuclideanMetric,  theiler_corrector=1)\n",
    "    computation = RQAComputation.create(settings, verbose=False)\n",
    "    result = computation.run()\n",
    "    RR = result.recurrence_rate\n",
    "    df.loc[df.index[t]] = [RR]\n",
    "        \n",
    "    print(\"t = %d; RR = %f\" % (t, RR), end='')\n",
    "    print(\"\\t\\t\\t\", end='\\r')"
   ]
  },
  {
   "cell_type": "markdown",
   "id": "7584ac1e-04fe-4359-87ce-617c812f5588",
   "metadata": {},
   "source": [
    "## Indicator-2: Determinism"
   ]
  },
  {
   "cell_type": "code",
   "execution_count": null,
   "id": "8273066d-5551-4f6e-89d0-79071eca4bc0",
   "metadata": {},
   "outputs": [],
   "source": [
    "length = 100\n",
    "\n",
    "#=============================== CALCULATIONS ================================#\n",
    "df = pd.DataFrame(index=dataframe.index, columns=[\"indicator\"]) # empty dataframe for results\n",
    "\n",
    "print(\"Candle range = %d; Data length = %d\" % (length, N), end=\"\\n\\n\")\n",
    "\n",
    "for t in range(length - 1, N):\n",
    "    \n",
    "    #-------------------------- TIME SERIES SECTION --------------------------#\n",
    "    x = dataframe.close[t - (length - 1):t + 1].values\n",
    "    \n",
    "    #----------------------------- RQA ANALYSIS ------------------------------#\n",
    "    reconstructed = TimeSeries(x, embedding_dimension=2, time_delay=2)\n",
    "    settings = Settings(reconstructed,  analysis_type=Classic,  neighbourhood=FixedRadius(0.65), similarity_measure=EuclideanMetric,  theiler_corrector=1)\n",
    "    computation = RQAComputation.create(settings, verbose=False)\n",
    "    result = computation.run()\n",
    "    DET = result.determinism\n",
    "    df.loc[df.index[t]] = [DET]\n",
    "        \n",
    "    print(\"t = %d; DET = %f\" % (t, DET), end='')\n",
    "    print(\"\\t\\t\\t\", end='\\r')"
   ]
  },
  {
   "cell_type": "markdown",
   "id": "45a52236-aec4-4c4a-98ea-925468ca2459",
   "metadata": {},
   "source": [
    "## Indicator-3: Laminarity"
   ]
  },
  {
   "cell_type": "code",
   "execution_count": null,
   "id": "28838331-ecad-4693-8de2-9849b5062b32",
   "metadata": {},
   "outputs": [],
   "source": [
    "length = 100\n",
    "\n",
    "#=============================== CALCULATIONS ================================#\n",
    "df = pd.DataFrame(index=dataframe.index, columns=[\"indicator\"]) # empty dataframe for results\n",
    "\n",
    "print(\"Candle range = %d; Data length = %d\" % (length, N), end=\"\\n\\n\")\n",
    "\n",
    "for t in range(length - 1, N):\n",
    "    \n",
    "    #-------------------------- TIME SERIES SECTION --------------------------#\n",
    "    x = dataframe.close[t - (length - 1):t + 1].values\n",
    "    \n",
    "    #----------------------------- RQA ANALYSIS ------------------------------#\n",
    "    reconstructed = TimeSeries(x, embedding_dimension=2, time_delay=2)\n",
    "    settings = Settings(reconstructed,  analysis_type=Classic,  neighbourhood=FixedRadius(0.65), similarity_measure=EuclideanMetric,  theiler_corrector=1)\n",
    "    computation = RQAComputation.create(settings, verbose=False)\n",
    "    result = computation.run()\n",
    "    LAM = result.laminarity\n",
    "\n",
    "    df.loc[df.index[t]] = [LAM]\n",
    "        \n",
    "    print(\"t = %d; LAM = %f\" % (t, LAM), end='')\n",
    "    print(\"\\t\\t\\t\", end='\\r')"
   ]
  },
  {
   "cell_type": "markdown",
   "id": "31c489b6-b75f-44e2-a54b-6c06c0967dc1",
   "metadata": {},
   "source": [
    "## Recurrence Plot"
   ]
  },
  {
   "cell_type": "code",
   "execution_count": null,
   "id": "a78036ad-7212-4901-a132-7a93e15dae39",
   "metadata": {},
   "outputs": [],
   "source": [
    "from __future__ import division, print_function\n",
    "import pylab\n",
    "from scipy.spatial.distance import pdist, squareform\n",
    "\n",
    "\n",
    "def recurrence_plot(s, eps=0.10, steps=10):\n",
    "    \n",
    "    d = pdist(s[:, None])\n",
    "    d = np.floor(d / eps)\n",
    "    d[d>steps] = steps\n",
    "    Z = squareform(d)\n",
    "    return Z\n",
    "\n",
    "\n",
    "def moving_average(s, r=5):\n",
    "    \n",
    "    return np.convolve(s, np.ones((r,))/r, mode='valid')\n",
    "\n",
    "\n",
    "if __name__ == \"__main__\":\n",
    "    \n",
    "    # generate singal\n",
    "    N = 200\n",
    "    eps = 0.1\n",
    "    steps = 10\n",
    "\n",
    "    # plot unifrom dist filtered with moving average\n",
    "    ru = np.random.uniform(low=-1, high=1, size=N)\n",
    "    ru_filtered = moving_average(ru)\n",
    "\n",
    "    pylab.title(\"Normal\")\n",
    "    pylab.subplot(221)\n",
    "    pylab.plot(ru_filtered)\n",
    "    pylab.title(\"Unitary\")\n",
    "    pylab.subplot(223)\n",
    "    pylab.imshow(recurrence_plot(ru_filtered, eps=eps, steps=steps))\n",
    "\n",
    "    # plot normal dist filtered with moving average\n",
    "    rn = np.random.normal(size=N)\n",
    "    rn_filtered = moving_average(rn)\n",
    "\n",
    "    pylab.subplot(222)\n",
    "    pylab.plot(rn_filtered)\n",
    "    pylab.title(\"Normal\")\n",
    "    pylab.subplot(224)\n",
    "    pylab.imshow(recurrence_plot(rn_filtered, eps=eps, steps=steps))\n",
    "\n",
    "    pylab.show()"
   ]
  },
  {
   "cell_type": "code",
   "execution_count": null,
   "id": "8b934130-17e8-4a4f-8a22-4188ec029217",
   "metadata": {},
   "outputs": [],
   "source": [
    "eps = 0.3\n",
    "steps = 10\n",
    "\n",
    "# calculate two different data section\n",
    "x = dataframe.close[\"2021-01-01\":\"2022-01-01\"]\n",
    "recurrence_x = recurrence_plot(x.values, eps=eps, steps=steps)\n",
    "\n",
    "y = dataframe.close[\"2022-01-01\":\"2023-01-01\"]\n",
    "recurrence_y = recurrence_plot(y.values, eps=eps, steps=steps)\n",
    "\n",
    "#================================= PLOT DATA =================================#\n",
    "fig = plt.figure(constrained_layout=True, figsize=(12, 7))  \n",
    "plt.style.use('classic')\n",
    "fig.set_facecolor('white')\n",
    "plt.rcParams['font.family'] = 'Arial'\n",
    "plt.rcParams.update({'mathtext.default':'regular'})\n",
    "\n",
    "gs = fig.add_gridspec(4, 2)\n",
    "\n",
    "ax1 = fig.add_subplot(gs[0, 0])\n",
    "ax1.plot(x, linestyle='-', color=\"k\")\n",
    "ax1.set_xlabel(r\"$Date$\", fontsize=10)\n",
    "ax1.set_ylabel(PAIR_NAME, fontsize=10)\n",
    "\n",
    "ax2 = fig.add_subplot(gs[1:,0])\n",
    "ax2.imshow(recurrence_x)\n",
    "\n",
    "\n",
    "ax3 = fig.add_subplot(gs[0, 1])\n",
    "ax3.plot(y, linestyle='-', color=\"k\")\n",
    "ax3.set_xlabel(r\"$Date$\", fontsize=10)\n",
    "ax3.set_ylabel(PAIR_NAME, fontsize=10)\n",
    "\n",
    "ax4 = fig.add_subplot(gs[1:,1])\n",
    "ax4.imshow(recurrence_y)\n",
    "plt.show()"
   ]
  },
  {
   "cell_type": "markdown",
   "id": "e98a0c34-b3fb-4ce7-b881-14be765cbf9a",
   "metadata": {},
   "source": [
    "# Visiualize"
   ]
  },
  {
   "cell_type": "markdown",
   "id": "7f82d180-ec6c-45ec-abfc-afd6c2c2413a",
   "metadata": {},
   "source": [
    "## Interactive Chart: Bokeh"
   ]
  },
  {
   "cell_type": "code",
   "execution_count": null,
   "id": "e208ffe6-3cb6-4bd9-bf5a-a552cf122c36",
   "metadata": {},
   "outputs": [],
   "source": [
    "candle_body_width = (timedelta(minutes=TIME_SCALE)).total_seconds() * 1000 / 2 # half of the trading time in miliseconds\n",
    "fig_width = 1250\n",
    "\n",
    "tools = \"pan, reset, wheel_zoom\"\n",
    "\n",
    "#=============================== CANDLE CHART ================================#\n",
    "candChart = figure(x_axis_type=\"datetime\", tools=tools, width=fig_width, height=400, title=\"Price Chart\")\n",
    "# green bars\n",
    "candChart.segment(x0=dataframe.index[inc], y0=dataframe.high[inc], x1=dataframe.index[inc], y1=dataframe.low[inc], color=\"green\")\n",
    "candChart.vbar(x=dataframe.index[inc], width=candle_body_width, bottom=dataframe.open[inc], top=dataframe.close[inc], fill_color=\"green\", line_color=\"green\")\n",
    "# red bars\n",
    "candChart.segment(x0=dataframe.index[dec], y0=dataframe.high[dec], x1=dataframe.index[dec], y1=dataframe.low[dec], color=\"red\")\n",
    "candChart.vbar(x=dataframe.index[dec], width=candle_body_width, top=dataframe.open[dec], bottom=dataframe.close[dec], fill_color=\"red\", line_color=\"red\")\n",
    "candChart.xaxis.axis_label=\"Date\"\n",
    "candChart.yaxis.axis_label=PAIR\n",
    "\n",
    "#=============================== VOLUME CHART ================================#\n",
    "#volChart = figure(x_axis_type=\"datetime\", width=fig_width, height=200)\n",
    "#volChart.vbar(dataframe.index[inc], width=width, top=dataframe.Volume[inc], fill_color=\"green\", line_color=\"green\", alpha=0.8)\n",
    "#volChart.vbar(dataframe.index[dec], width=width, top=dataframe.Volume[dec], fill_color=\"red\", line_color=\"red\", alpha=0.8)\n",
    "#volChart.xaxis.axis_label=\"Date\"\n",
    "#volChart.yaxis.axis_label=\"Volume\"\n",
    "\n",
    "#============================== INDICATOR CHART ==============================#\n",
    "indicatorChart = figure(x_axis_type=\"datetime\", tools=tools, x_range=candChart.x_range, width=fig_width, height=300, title=\"Indicator\")\n",
    "indicatorChart.line(df.index, df.indicator, line_color=\"purple\", line_width=1.5, name=\"Shannon Entropy\")\n",
    "indicatorChart.xaxis.axis_label=\"Date\"\n",
    "indicatorChart.yaxis.axis_label = INDICATOR\n",
    "\n",
    "col = column(candChart, indicatorChart)\n",
    "show(col)"
   ]
  },
  {
   "cell_type": "markdown",
   "id": "5cc507f8-b9b4-4860-88df-b1a9c651e24e",
   "metadata": {},
   "source": [
    "## Static Plot: Matplotlib"
   ]
  },
  {
   "cell_type": "code",
   "execution_count": null,
   "id": "2f5de7fb-5726-493c-be41-5d320ffe258a",
   "metadata": {},
   "outputs": [],
   "source": [
    "fig, ax = plt.subplots(figsize=(10, 4))\n",
    "plt.style.use('classic')\n",
    "fig.set_facecolor('white')\n",
    "linewidths, fontsizes = 2., 15\n",
    "plt.rc('lines', linewidth=linewidths)\n",
    "plt.rc('axes', linewidth=linewidths)\n",
    "plt.rcParams['font.family'] = 'Arial'\n",
    "plt.rcParams.update({'mathtext.default':'regular'})\n",
    "\n",
    "ax.plot(dataframe.close, ls='-',color='blue', lw=.7)\n",
    "#ax.set_xlim([0,1400])\n",
    "ax.tick_params(axis=\"x\", direction=\"in\", labelcolor='black', width=linewidths, length=4)\n",
    "ax.tick_params(axis=\"y\", direction=\"in\", labelcolor='blue', width=linewidths, length=4)\n",
    "ax.set_xlabel(r\"$Date$\", fontsize=fontsizes)\n",
    "ax.set_ylabel(PAIR, fontsize=fontsizes)\n",
    "\n",
    "ax_indicator = ax.twinx()\n",
    "ax_indicator.plot(df.indicator, color='green', lw=.8)\n",
    "#ax_indicator.set_xlim([1380,1390])\n",
    "#ax_indicator.set_ylim([-1, 2])\n",
    "ax_indicator.tick_params(axis=\"both\", direction=\"in\", left=True, labelcolor='green', width=linewidths, length=4)\n",
    "ax_indicator.set_ylabel(INDICATOR, fontsize=fontsizes)\n",
    "plt.show()"
   ]
  }
 ],
 "metadata": {
  "kernelspec": {
   "display_name": "Python 3 (ipykernel)",
   "language": "python",
   "name": "python3"
  },
  "language_info": {
   "codemirror_mode": {
    "name": "ipython",
    "version": 3
   },
   "file_extension": ".py",
   "mimetype": "text/x-python",
   "name": "python",
   "nbconvert_exporter": "python",
   "pygments_lexer": "ipython3",
   "version": "3.12.2"
  }
 },
 "nbformat": 4,
 "nbformat_minor": 5
}
